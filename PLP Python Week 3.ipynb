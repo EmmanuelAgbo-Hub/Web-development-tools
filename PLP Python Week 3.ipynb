{
 "cells": [
  {
   "cell_type": "code",
   "execution_count": 7,
   "id": "138a86aa-a4a3-4ee9-86f0-fa83a60ae3ca",
   "metadata": {},
   "outputs": [],
   "source": [
    "## PLP Scholarship course exercise\n",
    "### WEEK 3 Tasks and Assignment"
   ]
  },
  {
   "cell_type": "markdown",
   "id": "bb51b5f9-5578-464c-8886-a38712d20c80",
   "metadata": {},
   "source": [
    "Week 3 Assignment\n",
    "Description\n",
    "\n",
    "1. Create a function named calculate_discount(price, discount_percent) that calculates the final price after applying a discount. The function should take the original price (price) and the discount percentage (discount_percent) as parameters. If the discount is 20% or higher, apply the discount; otherwise, return the original price.\n",
    "2. Using the calculate_discount function, prompt the user to enter the original price of an item and the discount percentage. Print the final price after applying the discount, or if no discount was applied, print the original price."
   ]
  },
  {
   "cell_type": "code",
   "execution_count": 11,
   "id": "925f7b08-ed91-4cc6-aee2-15729d08e7b3",
   "metadata": {},
   "outputs": [],
   "source": [
    "# create the function\n",
    "\n",
    "def calculate_discount(price, discount_percent):\n",
    "    ''' Calculates discounted price of an item '''\n",
    "    if discount_percent >= 0.20:\n",
    "        return price - (discount_percent * price)\n",
    "    else:\n",
    "        return price\n",
    "\n"
   ]
  },
  {
   "cell_type": "code",
   "execution_count": 12,
   "id": "5d42b0b7-6bee-4183-9c04-e22250c49947",
   "metadata": {},
   "outputs": [
    {
     "name": "stdin",
     "output_type": "stream",
     "text": [
      "Enter the price of an your item:  12000\n",
      "Enter the discount percent as in 0.03:  0.4\n"
     ]
    },
    {
     "name": "stdout",
     "output_type": "stream",
     "text": [
      "The new price of the item is 7200.00\n"
     ]
    }
   ],
   "source": [
    "# user input and calculate_discount function in use\n",
    "price = float(input('Enter the price of an your item: '))\n",
    "discount_percent = float(input('Enter the discount percent as in 0.03: '))\n",
    "new_price = calculate_discount(price, discount_percent)\n",
    "print('The new price of the item is %.2f' %new_price)"
   ]
  },
  {
   "cell_type": "markdown",
   "id": "4f9ab7b8-4c9d-440d-980e-0de037390cdf",
   "metadata": {},
   "source": [
    "##### Coding Challenges for basic control flows and functions"
   ]
  },
  {
   "cell_type": "markdown",
   "id": "45177b36-bd46-426e-8fd1-16691ffde55e",
   "metadata": {},
   "source": [
    "##### Coding Question 1\n",
    "\n",
    "Create a function named large_power() that takes two parameters named base and exponent.\n",
    "\n",
    "If base raised to the exponent is greater than 5000, return True, otherwise return False"
   ]
  },
  {
   "cell_type": "code",
   "execution_count": 3,
   "id": "82587f67-607c-423e-bceb-1e5a806d3f31",
   "metadata": {},
   "outputs": [],
   "source": [
    "def large_power(base, exponent):\n",
    "    ''' This function checks if the exponent of a number is greater than 5000 '''\n",
    "    result = base**exponent\n",
    "    if result > 5000:\n",
    "        return True\n",
    "    else:\n",
    "        return False"
   ]
  },
  {
   "cell_type": "code",
   "execution_count": 4,
   "id": "9906d72c-184c-4268-a368-7309d385bcc8",
   "metadata": {},
   "outputs": [
    {
     "data": {
      "text/plain": [
       "True"
      ]
     },
     "execution_count": 4,
     "metadata": {},
     "output_type": "execute_result"
    }
   ],
   "source": [
    "large_power(43, 23)"
   ]
  },
  {
   "cell_type": "markdown",
   "id": "b26a8dc8-daab-47fe-8fb0-cb6206639e28",
   "metadata": {},
   "source": [
    "##### Coding question 2\n",
    "\n",
    "Create a function called divisible_by_ten() that has one parameter named num.\n",
    "\n",
    "The function should return True if num is divisible by 10, and False otherwise. Consider using modulo operator % to check for divisibility"
   ]
  },
  {
   "cell_type": "code",
   "execution_count": 5,
   "id": "5ce96e3a-8727-48c5-94b5-e9a3e586393a",
   "metadata": {},
   "outputs": [],
   "source": [
    "def divisible_by_ten(num):\n",
    "    ''' This function checks if a given number is divisible by 10 '''\n",
    "    if num % 10 == 0:\n",
    "        return True\n",
    "    else:\n",
    "        return False"
   ]
  },
  {
   "cell_type": "code",
   "execution_count": 6,
   "id": "b9508f0d-29d2-40c0-b740-afc721227380",
   "metadata": {},
   "outputs": [
    {
     "data": {
      "text/plain": [
       "True"
      ]
     },
     "execution_count": 6,
     "metadata": {},
     "output_type": "execute_result"
    }
   ],
   "source": [
    "divisible_by_ten(100)"
   ]
  },
  {
   "cell_type": "code",
   "execution_count": null,
   "id": "364f7fb5-779e-420c-8fe8-f44e54d4ef88",
   "metadata": {},
   "outputs": [],
   "source": []
  }
 ],
 "metadata": {
  "kernelspec": {
   "display_name": "Python 3 (ipykernel)",
   "language": "python",
   "name": "python3"
  },
  "language_info": {
   "codemirror_mode": {
    "name": "ipython",
    "version": 3
   },
   "file_extension": ".py",
   "mimetype": "text/x-python",
   "name": "python",
   "nbconvert_exporter": "python",
   "pygments_lexer": "ipython3",
   "version": "3.12.7"
  }
 },
 "nbformat": 4,
 "nbformat_minor": 5
}
