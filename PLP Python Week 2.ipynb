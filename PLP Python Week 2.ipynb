{
 "cells": [
  {
   "cell_type": "markdown",
   "id": "c00be004-bf0d-4836-9560-89bd1976cc59",
   "metadata": {},
   "source": [
    "## PLP Scholarship course exercise\n",
    "### WEEK 2 Tasks and Assignment"
   ]
  },
  {
   "cell_type": "markdown",
   "id": "017f334e-ae1d-45b1-a678-62079558aab2",
   "metadata": {},
   "source": [
    "Week Two Assignment\n",
    "Description\n",
    "\n",
    "1. Create an empty list called my_list.\n",
    "2. Append the following elements to my_list: 10, 20, 30, 40.\n",
    "3. Insert the value 15 at the second position in the list.\n",
    "4. Extend my_list with another list: [50, 60, 70].\n",
    "5. Remove the last element from my_list.\n",
    "6. Sort my_list in ascending order.\n",
    "7. Find and print the index of the value 30 in my_list.\n",
    "\n"
   ]
  },
  {
   "cell_type": "code",
   "execution_count": 33,
   "id": "5331dd82-5c6a-4781-bafc-30a6d2af8d12",
   "metadata": {},
   "outputs": [
    {
     "name": "stdout",
     "output_type": "stream",
     "text": [
      "[10, 15, 20, 30, 40, 50, 60]\n"
     ]
    },
    {
     "data": {
      "text/plain": [
       "3"
      ]
     },
     "execution_count": 33,
     "metadata": {},
     "output_type": "execute_result"
    }
   ],
   "source": [
    "# Assignment 2 solution\n",
    "\n",
    "# creating an empty list\n",
    "my_list = list()\n",
    "\n",
    "# append 10, 20, 30, 40.\n",
    "for l in range(10, 41, 10):\n",
    "    my_list.append(l)\n",
    "\n",
    "# insert 15 at the second position\n",
    "my_list.insert(1, 15)\n",
    "\n",
    "# Extend \n",
    "another_list =  [50, 60, 70]\n",
    "my_list.extend(another_list)\n",
    "\n",
    "# Remove the last element from my_list\n",
    "my_list.pop()\n",
    "\n",
    "my_list.sort()\n",
    "print(my_list)\n",
    "\n",
    "# the position of the 30\n",
    "my_list.index(30)"
   ]
  },
  {
   "cell_type": "markdown",
   "id": "30364143-5f5e-476d-a576-d39fea11c337",
   "metadata": {},
   "source": [
    "Week 2 Tasks:\n",
    "\n",
    "1. Write a program that accepts user input to create a list of integers. Then, compute the sum of all the integers in the list.\n",
    "2. Create a tuple containing the names of five of your favorite books. Then, use a for loop to print each book name on a separate line.\n",
    "3. Write a program that uses a dictionary to store information about a person, such as their name, age, and favorite color. Ask the user for input and store the information in the dictionary. Then, print the dictionary to the console.\n",
    "4. Write a program that accepts user input to create two sets of integers. Then, create a new set that contains only the elements that are common to both sets.\n",
    "5. Create a program that stores a list of words. Then, use list comprehension to create a new list that contains only the words that have an odd number of characters."
   ]
  },
  {
   "cell_type": "code",
   "execution_count": 10,
   "id": "15eeb904-2ea4-43eb-bab7-161694228311",
   "metadata": {},
   "outputs": [
    {
     "name": "stdin",
     "output_type": "stream",
     "text": [
      "Enter a whole number(Leave it blank if no other number):  12\n",
      "Enter a whole number(Leave it blank if no other number):  34\n",
      "Enter a whole number(Leave it blank if no other number):  12\n",
      "Enter a whole number(Leave it blank if no other number):  34\n",
      "Enter a whole number(Leave it blank if no other number):  \n"
     ]
    },
    {
     "name": "stdout",
     "output_type": "stream",
     "text": [
      "92\n"
     ]
    }
   ],
   "source": [
    "# number 1\n",
    "\n",
    "# Task:  Write a program that accepts user input to create a list of integers. Then, compute the sum of all the integers in the list.\n",
    "\n",
    "list_of_int = []\n",
    "\n",
    "try:\n",
    "    num = int(input('Enter a whole number(Leave it blank if no other number): '))\n",
    "    while num != '':\n",
    "        num = int(num)\n",
    "        list_of_int.append(num)\n",
    "        num = input('Enter a whole number(Leave it blank if no other number): ')\n",
    "except:\n",
    "    print('Enter integers(whole numbers only)')\n",
    "\n",
    "sum_int = sum(list_of_int)\n",
    "print(sum_int)\n"
   ]
  },
  {
   "cell_type": "code",
   "execution_count": 13,
   "id": "b79e5e27-45b1-43c9-8c54-f0788d020e64",
   "metadata": {},
   "outputs": [
    {
     "name": "stdout",
     "output_type": "stream",
     "text": [
      "THESE ARE MY TOP 5 FAVOURITE BOOKS\n",
      "Rich dad poor dad\n",
      "Bible\n",
      "The power of Focus\n",
      "The magic of believing\n",
      "Eat that big frog\n"
     ]
    }
   ],
   "source": [
    "# Number 2\n",
    "\n",
    "# Task: Create a tuple containing the names of five of your favorite books. Then, use a for loop to print each book name on a separateine.\n",
    "\n",
    "tup_fav_book = ('Rich dad poor dad', 'Bible', 'The power of Focus', 'The magic of believing', 'Eat that big frog')\n",
    "print('These are my top 5 favourite books'.upper())\n",
    "for book in tup_fav_book:\n",
    "    print(book)"
   ]
  },
  {
   "cell_type": "code",
   "execution_count": 16,
   "id": "bff4a5b1-bc15-4ac6-a654-f9f70b791e32",
   "metadata": {},
   "outputs": [
    {
     "name": "stdin",
     "output_type": "stream",
     "text": [
      "What is your name:  emmanuel\n",
      "How old are you:  ew\n"
     ]
    },
    {
     "name": "stdout",
     "output_type": "stream",
     "text": [
      "Enter your info in the correct format\n"
     ]
    }
   ],
   "source": [
    "# Number 3\n",
    "\n",
    "# Task: Write a program that uses a dictionary to store information about a person, such as their name, age, and favorite color. \n",
    "#       Ask the user for input and store the information in the dictionary. \n",
    "#       Then, print the dictionary to the console.\n",
    "\n",
    "user_info = {} # user info\n",
    "try:\n",
    "    name = input('What is your name: ')\n",
    "    age = int(input('How old are you: '))\n",
    "    fav_col = input('Enter your favourite color: ')\n",
    "    user_info['Name'] = name\n",
    "    user_info['Age'] = age\n",
    "    user_info['Favourite color'] = fav_col\n",
    "    print(user_info)\n",
    "except:\n",
    "    print('Enter your age info in the correct format')\n",
    "    "
   ]
  },
  {
   "cell_type": "code",
   "execution_count": 22,
   "id": "3b7866fc-1ccc-463e-8e22-a5d1b37b1e9d",
   "metadata": {},
   "outputs": [
    {
     "name": "stdin",
     "output_type": "stream",
     "text": [
      "Enter an integer for the first set:  O\n"
     ]
    },
    {
     "name": "stdout",
     "output_type": "stream",
     "text": [
      "OOPS!!! Enter only integers(whole numbers only)\n"
     ]
    }
   ],
   "source": [
    "# Number 4\n",
    "\n",
    "# Task: Write a program that accepts user input to create two sets of integers. Then, create a new set that contains only \n",
    "# the elements that are common to both sets.\n",
    "\n",
    "set1 = set()\n",
    "set2 = set()\n",
    "\n",
    "try:\n",
    "    user_int1 = int(input('Enter an integer for the first set: '))\n",
    "    user_int2 = int(input('Enter an integer for the second set: '))\n",
    "    \n",
    "    while user_int1 != ''and user_int2 != '':\n",
    "        user_int1 = int(user_int1)\n",
    "        user_int2 = int(user_int2)\n",
    "        set1.add(user_int1)\n",
    "        set2.add(user_int2)\n",
    "        user_int1 = input('Enter an integer for the first set: ')\n",
    "        user_int2 = input('Enter an integer for the second set: ')\n",
    "    \n",
    "    new_set = set1 & set2 # Extracts the intersection of the two sets\n",
    "    print(new_set)\n",
    "except:\n",
    "    print('OOPS!!! Enter only integers(whole numbers only)')"
   ]
  },
  {
   "cell_type": "code",
   "execution_count": 25,
   "id": "01e8a49b-2b3e-4250-8c18-8ff314d557bc",
   "metadata": {},
   "outputs": [
    {
     "name": "stdin",
     "output_type": "stream",
     "text": [
      "Enter a word(Leave blank if no other word) amaka\n",
      "Enter a word(Leave blank if no other word) john\n",
      "Enter a word(Leave blank if no other word) ebuka\n",
      "Enter a word(Leave blank if no other word) jude\n",
      "Enter a word(Leave blank if no other word) judith\n",
      "Enter a word(Leave blank if no other word) \n"
     ]
    },
    {
     "name": "stdout",
     "output_type": "stream",
     "text": [
      "WORDS WITH ODD NUMBER OF CHARACTERS ARE:\n",
      "['amaka', 'ebuka']\n"
     ]
    }
   ],
   "source": [
    "# Number 5\n",
    "\n",
    "# Task:  Create a program that stores a list of words. \n",
    "# Then, use list comprehension to create a new list that contains only the words that have an odd number of characters.\n",
    "word_bucket = list()\n",
    "word = input('Enter a word(Leave blank if no other word)')\n",
    "\n",
    "\n",
    "while word != '':\n",
    "    word_bucket.append(word)\n",
    "    word = input('Enter a word(Leave blank if no other word)')\n",
    "\n",
    "odd_num_chr = [Word for Word in word_bucket if len(Word) % 2 != 0]\n",
    "\n",
    "print('Words with odd number of characters are:'.upper())\n",
    "print(odd_num_chr)"
   ]
  },
  {
   "cell_type": "code",
   "execution_count": null,
   "id": "463ed378-118c-4f81-9f58-e6c98f7e7a38",
   "metadata": {},
   "outputs": [],
   "source": []
  }
 ],
 "metadata": {
  "kernelspec": {
   "display_name": "Python 3 (ipykernel)",
   "language": "python",
   "name": "python3"
  },
  "language_info": {
   "codemirror_mode": {
    "name": "ipython",
    "version": 3
   },
   "file_extension": ".py",
   "mimetype": "text/x-python",
   "name": "python",
   "nbconvert_exporter": "python",
   "pygments_lexer": "ipython3",
   "version": "3.12.7"
  }
 },
 "nbformat": 4,
 "nbformat_minor": 5
}
