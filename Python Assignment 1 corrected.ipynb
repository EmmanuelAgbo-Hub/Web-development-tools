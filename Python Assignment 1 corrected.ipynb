{
 "cells": [
  {
   "cell_type": "code",
   "execution_count": 34,
   "id": "7ee63dda-00ba-47cd-82fe-acb07ca49652",
   "metadata": {
    "jp-MarkdownHeadingCollapsed": true
   },
   "outputs": [
    {
     "name": "stdin",
     "output_type": "stream",
     "text": [
      "Enter the first number:  12\n",
      "Enter the second number:  32\n",
      "Enter the mathematical operator of interest(any of /,*,+ or -):  +\n"
     ]
    },
    {
     "name": "stdout",
     "output_type": "stream",
     "text": [
      "12.0 + 32.0 = 44.0\n"
     ]
    }
   ],
   "source": [
    "# Assignment 1\n",
    "\n",
    "# user input: 2 numbers\n",
    "a = input('Enter the first number: ')\n",
    "b = input('Enter the second number: ')\n",
    "\n",
    "# Confirm if numeric data are entered\n",
    "try:\n",
    "    a = float(a)\n",
    "    b = float(b)\n",
    "except:\n",
    "    a = input('Enter a whole number or floating point number as the first number: ')\n",
    "    b = input('Enter a whole number or floating point number as the second number: ')\n",
    "\n",
    "# user operator symbol\n",
    "operator = input('Enter the mathematical operator of interest(any of /,*,+ or -): ')\n",
    "\n",
    "# Do the operation and print the result\n",
    "if operator == '/':\n",
    "    try:\n",
    "        result = a/b\n",
    "        print(f'{a} / {b} = {result}')\n",
    "    except:\n",
    "        print('No number can be divided by 0. So, enter a more reasonable number')\n",
    "        \n",
    "elif operator == '+':\n",
    "    result = a+b\n",
    "    print(f'{a} + {b} = {result}')\n",
    "elif operator == '*':\n",
    "    result = a*b\n",
    "    print(f'{a} * {b} = {result}')\n",
    "elif operator == '-':\n",
    "    result = a-b\n",
    "    print(f'{a} - {b} = {result}')\n",
    "else:\n",
    "    print('Your request was unable to process because you entered unsupported character as the operator\\nSupported characters are +, /, -, and *')\n",
    "    "
   ]
  },
  {
   "cell_type": "code",
   "execution_count": null,
   "id": "67e85185-da74-4a44-8d62-f8b6ab12cada",
   "metadata": {},
   "outputs": [],
   "source": []
  },
  {
   "cell_type": "code",
   "execution_count": 23,
   "id": "fa73fb75-a2d1-4a8d-83c4-50723c199297",
   "metadata": {},
   "outputs": [
    {
     "data": {
      "text/plain": [
       "'r'"
      ]
     },
     "execution_count": 23,
     "metadata": {},
     "output_type": "execute_result"
    }
   ],
   "source": [
    "operator[0]"
   ]
  },
  {
   "cell_type": "code",
   "execution_count": null,
   "id": "af5ff098-9e0f-4715-ae57-c00a792fb507",
   "metadata": {},
   "outputs": [],
   "source": []
  }
 ],
 "metadata": {
  "kernelspec": {
   "display_name": "Python 3 (ipykernel)",
   "language": "python",
   "name": "python3"
  },
  "language_info": {
   "codemirror_mode": {
    "name": "ipython",
    "version": 3
   },
   "file_extension": ".py",
   "mimetype": "text/x-python",
   "name": "python",
   "nbconvert_exporter": "python",
   "pygments_lexer": "ipython3",
   "version": "3.12.7"
  }
 },
 "nbformat": 4,
 "nbformat_minor": 5
}
